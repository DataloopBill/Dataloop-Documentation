{
 "cells": [
  {
   "cell_type": "markdown",
   "id": "238ab045",
   "metadata": {},
   "source": [
    "# Semantic Segmentation in Dataloop's Python SDK\n"
   ]
  },
  {
   "cell_type": "code",
   "execution_count": 51,
   "id": "9bbb06da",
   "metadata": {},
   "outputs": [],
   "source": [
    "#importing Dataloop's Python Package and Numpy\n",
    "import dtlpy as dl\n",
    "import numpy as np\n"
   ]
  },
  {
   "cell_type": "code",
   "execution_count": null,
   "id": "657f93a3",
   "metadata": {},
   "outputs": [],
   "source": [
    "#Logging in to Dataloop (checks if token expired ~24h expiration time for token)\n",
    "if dl.token_expired():\n",
    "   dl.login()\n",
    "#you can also use the simple login: \n",
    "#dl.login()"
   ]
  },
  {
   "cell_type": "code",
   "execution_count": null,
   "id": "d1dd0166",
   "metadata": {},
   "outputs": [],
   "source": []
  },
  {
   "cell_type": "code",
   "execution_count": 52,
   "id": "97352a18",
   "metadata": {},
   "outputs": [],
   "source": [
    "# Importing the Project and Dataset - change with your own project and dataset\n",
    "project = dl.projects.get(project_name='CreatureHunt')\n",
    "\n",
    "dataset = project.datasets.get(dataset_name='Creatures')\n",
    "\n",
    "#Go search for your Item ID, by openinng the dataset inthe  webUI\n",
    "dataset.open_in_web()\n"
   ]
  },
  {
   "cell_type": "code",
   "execution_count": 53,
   "id": "d48a81aa",
   "metadata": {},
   "outputs": [],
   "source": [
    "#get the item - change the ID with your Item ID\n",
    "item = dl.items.get(item_id='63eb694dbb4d84844887871d')"
   ]
  },
  {
   "cell_type": "code",
   "execution_count": 54,
   "id": "3405dd41",
   "metadata": {},
   "outputs": [
    {
     "data": {
      "text/plain": [
       "AnnotationCollection(item=Item(dataset_url='https://gate.dataloop.ai/api/v1/datasets/63e6283b4a03c631b54725ec', created_at='2023-02-14T10:58:21.000Z', dataset_id='63e6283b4a03c631b54725ec', filename='/098-696200529-scale10.00-k_euler_a-sd-v1-5-fp16.png', name='098-696200529-scale10.00-k_euler_a-sd-v1-5-fp16.png', type='file', id='63eb694dbb4d84844887871d', spec=None, creator='myfuncont@gmail.com', _description=None, annotations_count=1), annotations=[Annotation(id='642fdc3f6655cc4a3f63e417', item_id='63eb694dbb4d84844887871d', creator='myfuncont@gmail.com', created_at='2023-04-07T09:02:55.561Z', type='segment', item_height=1024, item_width=1024, label_suggestions=None, _start_frame=0, _start_time=0)])"
      ]
     },
     "execution_count": 54,
     "metadata": {},
     "output_type": "execute_result"
    }
   ],
   "source": [
    "\n",
    "# Create a builder instance\n",
    "builder = item.annotations.builder()\n",
    "# Create polygon annotation with label\n",
    "# with array of points: [[x1, y1], [x2, y2], ..., [xn, yn]]\n",
    "builder.add(annotation_definition=dl.Polygon(geo=[[200, 50],\n",
    "                                                  [80, 120],\n",
    "                                                  [110, 130]],\n",
    "                                             label='my-label'))\n",
    "# (optional) create Polyline annotation with label\n",
    "#builder.add(annotation_definition=dl.Polyline(geo=[[200, 50],\n",
    "#                                                   [80, 120],\n",
    "#                                                   [110, 130]],\n",
    "#                                              label='my-label'))\n",
    "# Upload polygon to the item\n",
    "item.annotations.upload(builder)\n"
   ]
  },
  {
   "cell_type": "code",
   "execution_count": 55,
   "id": "d486c5e0",
   "metadata": {},
   "outputs": [],
   "source": [
    "#You can check the Annotation was added to your image using this line\n",
    "item.open_in_web()"
   ]
  },
  {
   "cell_type": "code",
   "execution_count": 61,
   "id": "c5b2bfcc",
   "metadata": {},
   "outputs": [],
   "source": [
    "# Get all polygons\n",
    "\n",
    "# Pay attention each polygon must have different object ID \n",
    "# Here we create a filter that will look for all Polygon Annotations\n",
    "filters = dl.Filters(resource=dl.FiltersResource.ANNOTATION,\n",
    "                    field='type',\n",
    "                    values=dl.AnnotationType.POLYGON)\n",
    "#we get a list of annotations of a specific item\n",
    "annotations = item.annotations.list(filters=filters)"
   ]
  },
  {
   "cell_type": "code",
   "execution_count": 59,
   "id": "0ea55a8b",
   "metadata": {},
   "outputs": [
    {
     "name": "stdout",
     "output_type": "stream",
     "text": [
      "AnnotationCollection(item=Item(dataset_url='https://gate.dataloop.ai/api/v1/datasets/63e6283b4a03c631b54725ec', created_at='2023-02-14T10:58:21.000Z', dataset_id='63e6283b4a03c631b54725ec', filename='/098-696200529-scale10.00-k_euler_a-sd-v1-5-fp16.png', name='098-696200529-scale10.00-k_euler_a-sd-v1-5-fp16.png', type='file', id='63eb694dbb4d84844887871d', spec=None, creator='myfuncont@gmail.com', _description=None, annotations_count=1), annotations=[Annotation(id='642fdc3f6655cc4a3f63e417', item_id='63eb694dbb4d84844887871d', creator='myfuncont@gmail.com', created_at='2023-04-07T09:02:55.561Z', type='segment', item_height=None, item_width=None, label_suggestions=None, _start_frame=0, _start_time=0)])\n"
     ]
    }
   ],
   "source": [
    "#update and list all annotations\n",
    "annotations.update()\n",
    "print(annotations)\n"
   ]
  },
  {
   "cell_type": "code",
   "execution_count": 84,
   "id": "cf104214",
   "metadata": {},
   "outputs": [],
   "source": [
    "# create a blank copy of the h/w size of your image Item\n",
    "image = np.zeros((item.height, item.width), dtype=np.uint8)\n",
    "\n",
    "for annotation in annotations:\n",
    "    # convert Polygon to Segmentation\n",
    "    seg = dl.Segmentation.from_polygon(geo=annotation.geo,\n",
    "\n",
    "                                      label=annotation.label,\n",
    "\n",
    "                                      shape=(item.height, item.width),\n",
    "\n",
    "                                      attributes=annotation.attributes)"
   ]
  },
  {
   "cell_type": "code",
   "execution_count": 85,
   "id": "c4a87ce8",
   "metadata": {},
   "outputs": [
    {
     "name": "stdout",
     "output_type": "stream",
     "text": [
      "<dtlpy.entities.annotation_definitions.segmentation.Segmentation object at 0x00000202A940D150>\n"
     ]
    }
   ],
   "source": [
    "# Add Segmentation geo to Image with the polygon object_id \n",
    "\n",
    "image = np.where(seg.geo == 1, annotation.object_id, image)\n",
    "\n",
    "# Print the segm which should be of type = Segmantation, if everything went fine\n",
    "print(seg)"
   ]
  },
  {
   "cell_type": "markdown",
   "id": "724efefa",
   "metadata": {},
   "source": [
    "### Congrats, you just create a Semantic Segmentation Annotation in Dataloop!"
   ]
  }
 ],
 "metadata": {
  "kernelspec": {
   "display_name": "Python 3 (ipykernel)",
   "language": "python",
   "name": "python3"
  },
  "language_info": {
   "codemirror_mode": {
    "name": "ipython",
    "version": 3
   },
   "file_extension": ".py",
   "mimetype": "text/x-python",
   "name": "python",
   "nbconvert_exporter": "python",
   "pygments_lexer": "ipython3",
   "version": "3.10.9"
  }
 },
 "nbformat": 4,
 "nbformat_minor": 5
}
